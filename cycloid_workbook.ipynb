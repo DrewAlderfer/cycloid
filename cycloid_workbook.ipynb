{
 "cells": [
  {
   "cell_type": "code",
   "execution_count": 695,
   "id": "6656d5de-54a7-46d9-99ed-0aad6c1b1d26",
   "metadata": {},
   "outputs": [],
   "source": [
    "from typing import Union\n",
    "import numpy as np\n",
    "import matplotlib.pyplot as plt\n",
    "from matplotlib.collections import LineCollection, PatchCollection\n",
    "import matplotlib.patches as mpatches\n",
    "import matplotlib.path as mpath\n",
    "from numpy.typing import ArrayLike, NDArray\n",
    "from sympy import *\n",
    "\n",
    "from cycloid.main import Pins\n",
    "from cycloid.symmath import offset_line, cycloid\n",
    "np.set_printoptions(precision=4, suppress=True)"
   ]
  },
  {
   "cell_type": "code",
   "execution_count": 2,
   "id": "22d060c4-8389-409e-aa7e-52a0282768d7",
   "metadata": {},
   "outputs": [],
   "source": [
    "%load_ext autoreload\n",
    "%autoreload 2\n",
    "%aimport cycloid\n",
    "# %aimport src.utils.box_cutter\n",
    "# %aimport src.utils.classes\n",
    "# %aimport src.utils.data_worker\n"
   ]
  },
  {
   "cell_type": "code",
   "execution_count": 772,
   "id": "16c6bdd1-19be-4102-b41d-67274730b8e6",
   "metadata": {},
   "outputs": [],
   "source": [
    "# TODO Parameterize these variables in the cycloid contruction \n",
    "# i.e `10` should be a reference to the number of teeth on the \n",
    "# cycloid gear.\n",
    "step = 10\n",
    "pix = 40\n",
    "rad = 2 * np.pi / 10                              # `rad` is the length in radians of one cycloidal rotation (\"tooth\")\n",
    "\n",
    "n = np.linspace(0, step-1, step)                  # `n` is just a list of numbers that modify measurements for \n",
    "                                                  # each gear tooth, e.g. [0, 1, 2, ..., 10]\n",
    "a = n * rad                                       # `a` is the starting position of each tooth profile in radians\n",
    "\n",
    "# cosa, sina are the x, y components of a rotation\n",
    "# that will be applied to the d/dt of the offset\n",
    "# curve of the cycloid.\n",
    "#\n",
    "# These rotations around the base circle: `n+1/2` * `rad`\n",
    "# describes the number of tooth position rotations needed\n",
    "# from each position to align the tooth profile around the\n",
    "# origin.\n",
    "#\n",
    "# This alignment is used to measure the curvature of the\n",
    "# offset cycloid and 'trim' the parts of the function that\n",
    "# aren't wanted for the final gear profile.\n",
    "cosa = np.cos((n+1/2)*-rad)\n",
    "sina = np.sin((n+1/2)*-rad)\n",
    "\n",
    "t = np.linspace(a, a + rad, pix).swapaxes(0, 1)  # t is just the time step, or the value passed to the function that generates\n",
    "                                                 # the cycloidal curve. Defaults to 40 points/tooth profile.\n",
    "\n",
    "# rot is the rotation matrix applied to the derivative curve later the result\n",
    "# of which can be used to create a mask to trim the extra points of the offset\n",
    "# curve.\n",
    "rot = np.array([[cosa, -sina],\n",
    "                [sina, cosa]], dtype=np.float32).transpose(2, 0, 1)"
   ]
  },
  {
   "cell_type": "code",
   "execution_count": 773,
   "id": "f92d600b-f4e6-428a-a8aa-58601e528127",
   "metadata": {},
   "outputs": [
    {
     "name": "stdout",
     "output_type": "stream",
     "text": [
      "i: 10.0\n",
      "r2: 1.25\n",
      "e: 1.125\n"
     ]
    }
   ],
   "source": [
    "# pulling in the callable functions derived using sympy ./cycloid/symmath.py\n",
    "f1, f2, f3 = cycloid()\n",
    "# f1 is the base cycloid, f2 is the offset curve of f1, f3 = d/dt[f2]\n",
    "fxy = f1(t).squeeze().transpose(1,2,0) # getting a set of points from f1(t) with shape (num_teeth, num_points, 2) default: (10, 40, 2)"
   ]
  },
  {
   "cell_type": "code",
   "execution_count": 774,
   "id": "f23355af-8c89-4ace-8dab-ac94bcaef6c2",
   "metadata": {},
   "outputs": [
    {
     "data": {
      "text/plain": [
       "(10, 40, 2)"
      ]
     },
     "execution_count": 774,
     "metadata": {},
     "output_type": "execute_result"
    }
   ],
   "source": [
    "f2xy = f2(t).squeeze().transpose(1, 2, 0)\n",
    "f2xy.shape"
   ]
  },
  {
   "cell_type": "code",
   "execution_count": 777,
   "id": "afc79e14-e4a7-486e-8366-bcb2c1651257",
   "metadata": {},
   "outputs": [
    {
     "data": {
      "text/plain": [
       "((10, 40, 2, 1), (10, 40, 2, 2))"
      ]
     },
     "execution_count": 777,
     "metadata": {},
     "output_type": "execute_result"
    }
   ],
   "source": [
    "# this cell prepares the output of f3(t) and applies the rotation matrix to it\n",
    "d3 = f3(t).transpose(2, 3, 0, 1)\n",
    "rot_copy = np.repeat(np.expand_dims(rot, axis=1), pix, axis=1)\n",
    "d3_r = np.matmul(rot_copy, d3) # Apply the rotation to each tooth\n",
    "d3_r.shape, rot_copy.shape # just checking to make sure the shapes look right"
   ]
  },
  {
   "cell_type": "code",
   "execution_count": 783,
   "id": "15a6da9d-5cec-43b6-b71e-216d5c6e339d",
   "metadata": {},
   "outputs": [
    {
     "data": {
      "text/plain": [
       "(10, 40, 1, 1)"
      ]
     },
     "execution_count": 783,
     "metadata": {},
     "output_type": "execute_result"
    }
   ],
   "source": [
    "# Masking the output of f2(t) i.e. the offset curve function to trim the \n",
    "# parts of the curve that intersect themselves.\n",
    "mask = np.less(d3_r[:,:,-1:,:], 0)   # it's hard to explain in words but by rotating each part of the tooth to the same alignment\n",
    "                                 # we can just trim any y value of d/dt [f2(t)] that dips below zero.\n",
    "mask.shape"
   ]
  },
  {
   "cell_type": "code",
   "execution_count": 784,
   "id": "f4fa8807-4115-42d6-98b6-d69ecf30110e",
   "metadata": {},
   "outputs": [],
   "source": [
    "mask = np.repeat(mask, 2, axis=2)\n",
    "m_f2xy = np.ma.masked_array(f2xy, mask=mask.squeeze()) # then apply that mask to f2(t) to trim the profile."
   ]
  },
  {
   "cell_type": "code",
   "execution_count": 785,
   "id": "7631b352-2b94-4fa3-88ea-f2c8cb67bc34",
   "metadata": {},
   "outputs": [],
   "source": [
    "# The rest is just setting up the matplotlib stuff.\n",
    "# \n",
    "# In this cell the connections between the trimmed offset tooth curves are set up. This is all\n",
    "# hardcoded and will break right away.\n",
    "Path = mpath.Path\n",
    "start = f2xy[:, 13:14, :]\n",
    "stop = f2xy[:, 27:28:, :]\n",
    "beg = np.pi / 10\n",
    "inc = 2 * beg\n",
    "end = 2*np.pi - beg\n",
    "circ = np.linspace(beg, end, 10, dtype=np.float32)\n",
    "radius = 12.5 - 2.5\n",
    "mid = np.array([radius*np.cos(circ), radius*np.sin(circ)], dtype=np.float32).transpose(1, 0).reshape(10, 1, 2)\n",
    "\n",
    "curve = np.concatenate([start, mid, stop], axis=1)\n",
    "instr = [Path.MOVETO, Path.CURVE3, Path.CURVE3]\n"
   ]
  },
  {
   "cell_type": "code",
   "execution_count": 786,
   "id": "f7c67759-7446-4b6c-be61-2619cd23e736",
   "metadata": {},
   "outputs": [
    {
     "data": {
      "image/png": "[encoded data removed]",
      "text/plain": [
       "<Figure size 530x500 with 1 Axes>"
      ]
     },
     "metadata": {},
     "output_type": "display_data"
    }
   ],
   "source": [
    "# dump all the numpy arrays we calculated into `LineCollection`s\n",
    "ddxy = LineCollection(d3_r.squeeze())\n",
    "g_fxy = LineCollection(fxy, edgecolors=\"green\", linestyles=\"--\")\n",
    "g_f2xy = LineCollection(m_f2xy, edgecolors=\"red\")\n",
    "# Iterate through the curve point arrays and construct a bunch of patch objects from Path objects\n",
    "bez = []\n",
    "for idx in range(10):\n",
    "    bez.append(mpatches.PathPatch(\n",
    "            Path(curve[idx], instr), fc=\"none\"))\n",
    "curve_col = PatchCollection(bez, facecolors=\"none\", edgecolors=\"red\")\n",
    "# Draw the graph\n",
    "fig, ax = plt.subplots(figsize=(5.3, 5))\n",
    "ax.set(\n",
    "    xlim = [-20,20],\n",
    "    ylim = [-20,20]\n",
    "    )\n",
    "ax.vlines(x=0, ymin=-40, ymax=40, color=\"black\", alpha=.5)\n",
    "ax.hlines(y=0, xmin=-40, xmax=40, color=\"black\", alpha=.5)\n",
    "ax.add_collection(g_fxy)\n",
    "ax.add_collection(g_f2xy)\n",
    "ax.add_collection(curve_col)\n",
    "plt.show()"
   ]
  },
  {
   "cell_type": "code",
   "execution_count": null,
   "id": "5a8cf8cf-64c0-4664-80a2-60533b7e8367",
   "metadata": {},
   "outputs": [],
   "source": []
  }
 ],
 "metadata": {
  "kernelspec": {
   "display_name": "Python 3 (ipykernel)",
   "language": "python",
   "name": "python3"
  },
  "language_info": {
   "codemirror_mode": {
    "name": "ipython",
    "version": 3
   },
   "file_extension": ".py",
   "mimetype": "text/x-python",
   "name": "python",
   "nbconvert_exporter": "python",
   "pygments_lexer": "ipython3",
   "version": "3.12.0"
  }
 },
 "nbformat": 4,
 "nbformat_minor": 5
}
